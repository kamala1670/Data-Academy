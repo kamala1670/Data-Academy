{
 "metadata": {
  "language_info": {
   "codemirror_mode": {
    "name": "ipython",
    "version": 3
   },
   "file_extension": ".py",
   "mimetype": "text/x-python",
   "name": "python",
   "nbconvert_exporter": "python",
   "pygments_lexer": "ipython3",
   "version": "3.8.6"
  },
  "orig_nbformat": 2,
  "kernelspec": {
   "name": "python386jvsc74a57bd0cf210e97862837fc6a6ca8dd4440b1731df2a546b94c35128886f91cd120e466",
   "display_name": "Python 3.8.6 64-bit"
  }
 },
 "nbformat": 4,
 "nbformat_minor": 2,
 "cells": [
  {
   "cell_type": "code",
   "execution_count": null,
   "metadata": {},
   "outputs": [],
   "source": [
    "\n",
    "price = 2000\n",
    "depreciation = 10/100\n",
    "year= 2021\n",
    "value= 0\n",
    "def function1():\n",
    "    depreciation_value = int(price * depreciation)\n",
    "    depreciation_price = int(price - depreciation_value)\n",
    "    price = int(depreciation_price)\n",
    "    value += 1\n",
    "    year = year + 1\n",
    "\n",
    "if price > 1000:\n",
    "    exit \n",
    "while value < price :\n",
    "    print( \"In\", year, \"Asset value will be\", int(price), \"depreciation is\", int(depreciation_value))"
   ]
  },
  {
   "cell_type": "code",
   "execution_count": 5,
   "metadata": {},
   "outputs": [
    {
     "output_type": "stream",
     "name": "stdout",
     "text": [
      "You Entered Invalid Operator\n"
     ]
    }
   ],
   "source": [
    "# Write a program which will ask for two numbers from a user. Then offer an option menu to the user giving them a choice of maths operators. Once the user has selected which operator they wish to use, perform the calculation by using a procedure and passing parameters. \n",
    "def opera(first_number, second_number):\n",
    "    value = str(input(\"Please Enter a Operator Choice (+,-,/,*,**,%,//)\"))\n",
    "    if value == \"+\":\n",
    "        print(first_number+second_number)\n",
    "    elif value == \"-\":\n",
    "        print(first_number-second_number)\n",
    "    elif value == \"/\":\n",
    "        print(first_number/second_number)\n",
    "    elif value == \"*\":\n",
    "        print(first_number*second_number)\n",
    "    elif value == \"**\":\n",
    "        print(first_number**second_number)\n",
    "    elif value == \"%\":\n",
    "        print(first_number%second_number)\n",
    "    elif value == \"//\":\n",
    "        print(first_number//second_number)\n",
    "    else:\n",
    "        print(\"Invalid Operator\")\n",
    "opera(10,10)"
   ]
  },
  {
   "cell_type": "code",
   "execution_count": null,
   "metadata": {},
   "outputs": [],
   "source": []
  }
 ]
}