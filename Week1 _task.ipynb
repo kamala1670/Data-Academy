{
 "metadata": {
  "language_info": {
   "codemirror_mode": {
    "name": "ipython",
    "version": 3
   },
   "file_extension": ".py",
   "mimetype": "text/x-python",
   "name": "python",
   "nbconvert_exporter": "python",
   "pygments_lexer": "ipython3",
   "version": "3.8.6"
  },
  "orig_nbformat": 2,
  "kernelspec": {
   "name": "python386jvsc74a57bd0cf210e97862837fc6a6ca8dd4440b1731df2a546b94c35128886f91cd120e466",
   "display_name": "Python 3.8.6 64-bit"
  }
 },
 "nbformat": 4,
 "nbformat_minor": 2,
 "cells": [
  {
   "cell_type": "code",
   "execution_count": 2,
   "metadata": {},
   "outputs": [
    {
     "output_type": "stream",
     "name": "stdout",
     "text": [
      "You guessed correct answer\nCONGRATULATION\nCorrect answer is 4\n"
     ]
    }
   ],
   "source": [
    "#TASK 1\n",
    "# Write a program that does the following:\n",
    "# a) Stores a random number (1-10) in a variable – see hint below.\n",
    "# b) Asks a user for their name and stores this in a variable.\n",
    "# c) Asks a user to guess the number between 1 and 10.\n",
    "# d) Tells the user whether they have guessed correctly.\n",
    "import random\n",
    "name= input(\"What is your name? \")\n",
    "store = input(\"Where is  your store? \")\n",
    "guess = int(input(\"Please select random number from 1 to 10: \"))\n",
    "a=random.randint(0,10)\n",
    "if a==guess:\n",
    "    print(\"You guessed correct answer\")\n",
    "    print(\"CONGRATULATION\")\n",
    "    print (\"Correct answer is\",a)\n",
    "elif a>guess:\n",
    "    print(\"You guessed little more.\")\n",
    "    print(\"TRY AGAIN\")\n",
    "    print (\"Correct answer is\",a)\n",
    "elif a<guess:\n",
    "    print(\"You guessed little less.\")\n",
    "    print(\"TRY AGAIN\")\n",
    "    print (\"Correct answer is\",a)\n",
    "else:\n",
    "    print(\"Well Done!\")\n",
    "\n"
   ]
  },
  {
   "cell_type": "code",
   "execution_count": 4,
   "metadata": {},
   "outputs": [
    {
     "output_type": "stream",
     "name": "stdout",
     "text": [
      "Why did the kid bring a ladder to school? Because she wanted to go to high school.\n"
     ]
    }
   ],
   "source": [
    "# TASK 2\n",
    "# Write a program that asks a user for their favourite number between 1 \n",
    "# and 100 and then tells them a joke based on the number. You should \n",
    "# use a minimum of 3 jokes.\n",
    "\n",
    "Number= int(input(\"Please select a number between 1 to 100. \"))\n",
    "if Number in range(1,25):\n",
    "    print(\"How does Moses make tea? He brews.\")\n",
    "elif Number in range(25,50):\n",
    "    print(\"What did one traffic light say to the other? Stop looking at me, I'm changing!\")\n",
    "elif Number in range(50,75):\n",
    "    print(\"Why doesn't the sun go to college? Because it has a million degrees!\")\n",
    "else:\n",
    "    print(\"Why did the kid bring a ladder to school? Because she wanted to go to high school.\")"
   ]
  },
  {
   "cell_type": "code",
   "execution_count": 8,
   "metadata": {},
   "outputs": [
    {
     "output_type": "stream",
     "name": "stdout",
     "text": [
      "Your favourite starter is Mo:Mo  , favourite main course is lamb curry and Nan  , favourite dessert is Cake   , favourite drink is  Wine\n"
     ]
    }
   ],
   "source": [
    "# TASK 3\n",
    "# Write a program that allows user to enter their favourite starter, main \n",
    "# course, dessert and drink.\n",
    "# Concatenate these and output a message which says – “Your favourite \n",
    "# meal is ………with a glass of….”\n",
    "\n",
    "starter= input(\"Enter your favourite starter: \")\n",
    "main_course= input(\"Enter your favourite Main course: \")\n",
    "dessert= input(\"Enter your favourite dessert: \")\n",
    "drink = input(\"Enter your favourite drink: \")\n",
    "print(\"Your favourite starter is\" , starter , \",\",\"favourite main course is\" , main_course , \",\",\"favourite dessert is\" ,dessert, \" , \" \"favourite drink is \", drink)\n",
    "\n"
   ]
  },
  {
   "cell_type": "code",
   "execution_count": 17,
   "metadata": {
    "tags": []
   },
   "outputs": [
    {
     "output_type": "stream",
     "name": "stdout",
     "text": [
      "In 3021 Asset value is & 1800 depreciation is 200\n"
     ]
    }
   ],
   "source": [
    "# TASK 4\n",
    "# A motorbike costs £2000 and loses 10% of its value every year. Using a \n",
    "# loop, print the value of the bike every following year until it falls below \n",
    "# £1000.\n",
    "\n",
    "price = 2000\n",
    "depreciation = 10/100\n",
    "year= 2021\n",
    "value= 0\n",
    "\n",
    "if price > 1000:\n",
    "    exit \n",
    "while value < price :\n",
    "    depreciation_value = int(price * depreciation)\n",
    "    depreciation_price = int(price - depreciation_value)\n",
    "    price = int(depreciation_price)\n",
    "    value += 1\n",
    "    year = year + 1\n",
    "    print( \"In\", year, \"Asset value will be\", int(price), \"depreciation is\", int(depreciation_value))\n",
    "\n",
    "\n"
   ]
  },
  {
   "cell_type": "code",
   "execution_count": 13,
   "metadata": {},
   "outputs": [
    {
     "output_type": "stream",
     "name": "stdout",
     "text": [
      "  Enter a if you want to add\n",
      "                            Enter b if you want to subtract\n",
      "                            Enter c if you want to divide\n",
      "                            Enter d if you want to multiply\n",
      "                            Enter e if you want to square\n",
      "                            Enter f if you want to modulus\n",
      "            \n",
      "Subtraction is  50\n"
     ]
    }
   ],
   "source": [
    "# TASK 5\n",
    "# Write a program which will ask for two numbers from a user. Then \n",
    "# offer a menu to the user giving them a choice of operator:\n",
    "# e.g. – Enter “a” if you want to add\n",
    "# “b” if you want to subtract\n",
    "# Include +, -, /, *, ** square (to the power of). Once the user has \n",
    "# selected which operator they wish to use, perform the calculation.\n",
    "\n",
    "first_number = int(input(\"Enter first number: \"))\n",
    "second_number = int (input(\"Enter second number :\"))\n",
    "\n",
    "print (\"\"\"  Enter a if you want to add\n",
    "                            Enter b if you want to subtract\n",
    "                            Enter c if you want to divide\n",
    "                            Enter d if you want to multiply\n",
    "                            Enter e if you want to square\n",
    "                            Enter f if you want to modulus\n",
    "            \"\"\")\n",
    "\n",
    "operator = input(\"Which operator would you like to use? \")\n",
    "if operator == \"a\":\n",
    "    print (\"Addition is\", first_number + second_number)\n",
    "elif operator== \"b\":\n",
    "    print(\"Subtraction is \", first_number - second_number)\n",
    "elif operator== \"c\":\n",
    "    print(\"Division is \", first_number / second_number)\n",
    "elif operator== \"d\":\n",
    "    print(\"Multiplication is \", first_number * second_number)\n",
    "elif operator== \"e\":\n",
    "    print(\"square is \", first_number ** second_number)\n",
    "elif operator== \"f\":\n",
    "    print(\"modulus is \", first_number % second_number)\n",
    "else:\n",
    "    print(\"Invalid selection of operator\")\n"
   ]
  },
  {
   "cell_type": "code",
   "execution_count": null,
   "metadata": {},
   "outputs": [],
   "source": []
  }
 ]
}