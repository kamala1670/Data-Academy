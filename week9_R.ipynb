{
    "cells": [
        {
            "cell_type": "code",
            "execution_count": 1,
            "source": [
                "#Write an R program to create three vectors a, b, c with 5 integers. Combine the three vectors to become a 3×5 matrix where each column represents a vector. Print the content of the matrix. Plot a graph and label correctly.\r\n",
                "\r\n",
                "a <- c(3,2,1,8,5)\r\n",
                "b <- c(2,4,6,8,10)\r\n",
                "c <- c(1,3,5,7,9)\r\n",
                "m <- cbind(a,b,c)\r\n",
                "print(m)\r\n",
                "matplot( as.data.frame(m),type=\"l\")\r\n"
            ],
            "outputs": [
                {
                    "output_type": "error",
                    "ename": "SyntaxError",
                    "evalue": "invalid syntax (<ipython-input-1-9a892426407c>, line 8)",
                    "traceback": [
                        "\u001b[1;36m  File \u001b[1;32m\"<ipython-input-1-9a892426407c>\"\u001b[1;36m, line \u001b[1;32m8\u001b[0m\n\u001b[1;33m    matplot( as.data.frame(m),type=\"l\")\u001b[0m\n\u001b[1;37m             ^\u001b[0m\n\u001b[1;31mSyntaxError\u001b[0m\u001b[1;31m:\u001b[0m invalid syntax\n"
                    ]
                }
            ],
            "metadata": {}
        },
        {
            "cell_type": "code",
            "execution_count": null,
            "source": [
                "#Write a R program to create a Data frames which contain details of 5 employees and display the details. (Name, Age, Role and Length of service).\r\n",
                "Employees = data.frame(Name = c(\"Rubi F\",\"Sharuk K\",\"Kamala B\", \"John N\",\"Tom D\"),\r\n",
                "                       Age = c(21,32,29,26,34),\r\n",
                "                       Gender = c(\"F\",\"M\",\"F\",\"M\",\"M\"),\r\n",
                "                       Role = c(\"customer service\",\"clearner\",\"Exective\",\"manager\",\"team leader\"),\r\n",
                "                       Length_of_service = c(\"25 months\",\"22 months\",\"33 months\",\"50 months\",\"30 months\")\r\n",
                "                        )\r\n",
                "print(Employees)\r\n",
                "print(summary(Employees))\r\n"
            ],
            "outputs": [],
            "metadata": {}
        },
        {
            "cell_type": "code",
            "execution_count": null,
            "source": [
                "#Create a simple bar plot of five subjects\r\n",
                "v = test(-100:100, 10, replace=TRUE)\r\n",
                "print(\"10 random integer values between -100 and +100:\")\r\n",
                "print(v)"
            ],
            "outputs": [],
            "metadata": {}
        }
    ],
    "metadata": {
        "orig_nbformat": 4,
        "language_info": {
            "name": "python",
            "version": "3.8.6",
            "mimetype": "text/x-python",
            "codemirror_mode": {
                "name": "ipython",
                "version": 3
            },
            "pygments_lexer": "ipython3",
            "nbconvert_exporter": "python",
            "file_extension": ".py"
        },
        "kernelspec": {
            "name": "python3",
            "display_name": "Python 3.8.6 64-bit"
        },
        "interpreter": {
            "hash": "cf210e97862837fc6a6ca8dd4440b1731df2a546b94c35128886f91cd120e466"
        }
    },
    "nbformat": 4,
    "nbformat_minor": 2
}