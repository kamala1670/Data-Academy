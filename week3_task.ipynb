{
 "metadata": {
  "language_info": {
   "codemirror_mode": {
    "name": "ipython",
    "version": 3
   },
   "file_extension": ".py",
   "mimetype": "text/x-python",
   "name": "python",
   "nbconvert_exporter": "python",
   "pygments_lexer": "ipython3",
   "version": "3.8.6"
  },
  "orig_nbformat": 2,
  "kernelspec": {
   "name": "python386jvsc74a57bd0cf210e97862837fc6a6ca8dd4440b1731df2a546b94c35128886f91cd120e466",
   "display_name": "Python 3.8.6 64-bit"
  }
 },
 "nbformat": 4,
 "nbformat_minor": 2,
 "cells": [
  {
   "cell_type": "code",
   "execution_count": 1,
   "metadata": {},
   "outputs": [],
   "source": [
    "first_num=int(input(\"Enter first Number: \"))\n",
    "sec_number= int(input(\"Enter Second Number: \"))\n",
    "third_number= int(input(\"Enter third Number: \"))\n",
    "fourth_number=int(input(\"Enter fourth Number: \"))\n",
    "\n",
    "\n",
    "file = open(\"numbers.txt\",\"w\")\n",
    "file.write(f\"{first_num} {sec_number} {third_number} {fourth_number}\") #write the inputted numbers to the file\n",
    "file.close()"
   ]
  },
  {
   "cell_type": "code",
   "execution_count": 10,
   "metadata": {},
   "outputs": [
    {
     "output_type": "stream",
     "name": "stdout",
     "text": [
      "Passed with A grade\n"
     ]
    }
   ],
   "source": [
    "#Write a program to ask a student for their percentage mark and convert this to a grade \n",
    "\n",
    "percentage=float(input(\"Enter marks obtained: \"))\n",
    "\n",
    "def mark_grade():\n",
    "    if percentage > 90:\n",
    "        print(\"Passed with A grade\")\n",
    "    elif percentage >= 70 and percentage < 90:\n",
    "        print(\"Passed with B grade\")\n",
    "    elif percentage >= 60 and percentage < 70:\n",
    "        print(\"Passed with C grade\")\n",
    "    elif percentage >= 50 and percentage < 60:\n",
    "        print(\"passed with D Grade\")\n",
    "    else:\n",
    "        print(\"You failed\")\n",
    "\n",
    "\n",
    "mark_grade()"
   ]
  },
  {
   "cell_type": "code",
   "execution_count": 17,
   "metadata": {},
   "outputs": [
    {
     "output_type": "stream",
     "name": "stdout",
     "text": [
      "This is a array from 0 to 10:\n \n[0 1 2 3 4 5 6 7 8 9]\n"
     ]
    }
   ],
   "source": [
    "# 1.Create a 1D array of numbers from 0 to 9\n",
    "import numpy as np\n",
    "x = np.arange(10)\n",
    "print(\"This is a array from 0 to 10:\")\n",
    "print(\" \")\n",
    "print(x)"
   ]
  },
  {
   "cell_type": "code",
   "execution_count": null,
   "metadata": {},
   "outputs": [],
   "source": [
    "# 2.Create a 3×3 NumPy array of all Boolean value Trues\n"
   ]
  },
  {
   "cell_type": "code",
   "execution_count": 18,
   "metadata": {},
   "outputs": [
    {
     "output_type": "stream",
     "name": "stdout",
     "text": [
      "[1 3 5 7 9]\n"
     ]
    }
   ],
   "source": [
    "# 3.Extract all odd numbers from array of 1-10\n",
    "array = np.arange(1, 10) \n",
    "print(array[array%2==1])"
   ]
  },
  {
   "cell_type": "code",
   "execution_count": 19,
   "metadata": {},
   "outputs": [
    {
     "output_type": "stream",
     "name": "stdout",
     "text": [
      "[-1  2 -1  4 -1  6 -1  8 -1]\n"
     ]
    }
   ],
   "source": [
    "# 4.Replace all odd numbers in an array of 1-10 with the value -1\n",
    "task4_array= np.arange(1, 10)  \n",
    "\n",
    "task4_array[task4_array%2==1] = -1  "
   ]
  },
  {
   "cell_type": "code",
   "execution_count": 27,
   "metadata": {},
   "outputs": [
    {
     "output_type": "stream",
     "name": "stdout",
     "text": [
      "[[1 2]\n [3 4]\n [5 6]]\n"
     ]
    }
   ],
   "source": [
    "# 5. Convert a 1D array to a 2D array with 2 rows\n",
    "#import numpy as np\n",
    "array = np.array([1, 2, 3, 4, 5,6])\n",
    "newArray = array.reshape(3, 2) \n",
    "print(newArray)\n"
   ]
  },
  {
   "cell_type": "code",
   "execution_count": 35,
   "metadata": {},
   "outputs": [
    {
     "output_type": "stream",
     "name": "stdout",
     "text": [
      "[[ 30  36  42]\n [ 66  81  96]\n [102 126 150]]\n"
     ]
    }
   ],
   "source": [
    "# 6. Create two arrays a and b, stack these two arrays vertically use the np.dot and np.sum to calculate totals\n",
    "a = np.arange (1,10).reshape (3,3) \n",
    "b = np.arange (1,10).reshape (3,3)\n",
    "dot= np.dot(a, b)\n",
    "print(dot)\n",
    "# sum=np.sum(a,b)\n",
    "# print(sum)"
   ]
  },
  {
   "cell_type": "code",
   "execution_count": 34,
   "metadata": {},
   "outputs": [
    {
     "output_type": "stream",
     "name": "stdout",
     "text": [
      "729\n"
     ]
    }
   ],
   "source": [
    "\n",
    "a = np.arange (1,10).reshape (3,3) \n",
    "b = np.arange (1,10).reshape (3,3) \n",
    "c = np.dot(a, b)\n",
    "sum = np.sum(c) \n",
    "print(sum)"
   ]
  },
  {
   "cell_type": "code",
   "execution_count": null,
   "metadata": {},
   "outputs": [],
   "source": []
  }
 ]
}