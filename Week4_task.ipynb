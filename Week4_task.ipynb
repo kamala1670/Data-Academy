{
 "metadata": {
  "language_info": {
   "codemirror_mode": {
    "name": "ipython",
    "version": 3
   },
   "file_extension": ".py",
   "mimetype": "text/x-python",
   "name": "python",
   "nbconvert_exporter": "python",
   "pygments_lexer": "ipython3",
   "version": "3.8.6"
  },
  "orig_nbformat": 2,
  "kernelspec": {
   "name": "python3",
   "display_name": "Python 3.8.6 64-bit"
  },
  "interpreter": {
   "hash": "cf210e97862837fc6a6ca8dd4440b1731df2a546b94c35128886f91cd120e466"
  }
 },
 "nbformat": 4,
 "nbformat_minor": 2,
 "cells": [
  {
   "cell_type": "code",
   "execution_count": 2,
   "source": [
    "#How many rows and columns are there in your file\r\n",
    "import pandas as pd\r\n",
    "data = pd.read_csv(\"15_holiday_destination.csv\")\r\n",
    "data.shape\r\n",
    "print(data)"
   ],
   "outputs": [
    {
     "output_type": "stream",
     "name": "stdout",
     "text": [
      "       Destination  Feedback  AvgRating  Hotels_arround_area\n",
      "0            Poole         7          6                   10\n",
      "1   Isle of wight          5          4                  112\n",
      "2           London         4          6                   88\n",
      "3      Southampton         3          1                   13\n",
      "4           sussex         8          9                   18\n",
      "5         Skegness         9          8                   12\n",
      "6          Belfast         6          8                  111\n",
      "7        Edinburgh         8          8                  232\n",
      "8        Liverpool         8          1                   91\n",
      "9    lake district         7          7                  173\n",
      "10       cotswolds         8          9                  115\n",
      "11     Loch Lomond         7          9                   17\n",
      "12       Blackpool         8          6                  255\n",
      "13        scotland         8          9                 1163\n"
     ]
    }
   ],
   "metadata": {}
  },
  {
   "cell_type": "code",
   "execution_count": 3,
   "source": [
    "#Print row 3-8 ( using iloc/loc).\r\n",
    "data=pd.read_csv(\"15_holiday_destination.csv\")\r\n",
    "print(data.iloc[3:9])"
   ],
   "outputs": [
    {
     "output_type": "stream",
     "name": "stdout",
     "text": [
      "   Destination  Feedback  AvgRating  Hotels_arround_area\n",
      "3  Southampton         3          1                   13\n",
      "4       sussex         8          9                   18\n",
      "5     Skegness         9          8                   12\n",
      "6      Belfast         6          8                  111\n",
      "7    Edinburgh         8          8                  232\n",
      "8    Liverpool         8          1                   91\n"
     ]
    }
   ],
   "metadata": {}
  },
  {
   "cell_type": "code",
   "execution_count": 7,
   "source": [
    "#Task 3\r\n",
    "#Find the mean number of all-inclusive hotels across all destinations\r\n",
    "data = pd.read_csv(\"15_holiday_destination.csv\")\r\n",
    "data['Hotels_arround_area'].mean()"
   ],
   "outputs": [
    {
     "output_type": "execute_result",
     "data": {
      "text/plain": [
       "172.14285714285714"
      ]
     },
     "metadata": {},
     "execution_count": 7
    }
   ],
   "metadata": {}
  },
  {
   "cell_type": "code",
   "execution_count": 9,
   "source": [
    "#Find the lowest scoring destination.\r\n",
    "data = pd.read_csv(\"15_holiday_destination.csv\")\r\n",
    "data.loc[data.Feedback].min()"
   ],
   "outputs": [
    {
     "output_type": "execute_result",
     "data": {
      "text/plain": [
       "Destination            Belfast\n",
       "Feedback                     3\n",
       "AvgRating                    1\n",
       "Hotels_arround_area         12\n",
       "dtype: object"
      ]
     },
     "metadata": {},
     "execution_count": 9
    }
   ],
   "metadata": {}
  },
  {
   "cell_type": "code",
   "execution_count": 12,
   "source": [
    "#Find the highest scoring destination\r\n",
    "data = pd.read_csv(\"15_holiday_destination.csv\")\r\n",
    "data.loc[data.Feedback].max()"
   ],
   "outputs": [
    {
     "output_type": "execute_result",
     "data": {
      "text/plain": [
       "Destination            sussex\n",
       "Feedback                    9\n",
       "AvgRating                   9\n",
       "Hotels_arround_area       232\n",
       "dtype: object"
      ]
     },
     "metadata": {},
     "execution_count": 12
    }
   ],
   "metadata": {}
  },
  {
   "cell_type": "code",
   "execution_count": 13,
   "source": [
    "#Find all the destinations where there are more than 9 all-inclusive hotels\r\n",
    "data = pd.read_csv(\"15_holiday_destination.csv\")\r\n",
    "data.loc[data.Hotels_arround_area > 9]"
   ],
   "outputs": [
    {
     "output_type": "execute_result",
     "data": {
      "text/plain": [
       "       Destination  Feedback  AvgRating  Hotels_arround_area\n",
       "0            Poole         7          6                   10\n",
       "1   Isle of wight          5          4                  112\n",
       "2           London         4          6                   88\n",
       "3      Southampton         3          1                   13\n",
       "4           sussex         8          9                   18\n",
       "5         Skegness         9          8                   12\n",
       "6          Belfast         6          8                  111\n",
       "7        Edinburgh         8          8                  232\n",
       "8        Liverpool         8          1                   91\n",
       "9    lake district         7          7                  173\n",
       "10       cotswolds         8          9                  115\n",
       "11     Loch Lomond         7          9                   17\n",
       "12       Blackpool         8          6                  255\n",
       "13        scotland         8          9                 1163"
      ],
      "text/html": [
       "<div>\n",
       "<style scoped>\n",
       "    .dataframe tbody tr th:only-of-type {\n",
       "        vertical-align: middle;\n",
       "    }\n",
       "\n",
       "    .dataframe tbody tr th {\n",
       "        vertical-align: top;\n",
       "    }\n",
       "\n",
       "    .dataframe thead th {\n",
       "        text-align: right;\n",
       "    }\n",
       "</style>\n",
       "<table border=\"1\" class=\"dataframe\">\n",
       "  <thead>\n",
       "    <tr style=\"text-align: right;\">\n",
       "      <th></th>\n",
       "      <th>Destination</th>\n",
       "      <th>Feedback</th>\n",
       "      <th>AvgRating</th>\n",
       "      <th>Hotels_arround_area</th>\n",
       "    </tr>\n",
       "  </thead>\n",
       "  <tbody>\n",
       "    <tr>\n",
       "      <th>0</th>\n",
       "      <td>Poole</td>\n",
       "      <td>7</td>\n",
       "      <td>6</td>\n",
       "      <td>10</td>\n",
       "    </tr>\n",
       "    <tr>\n",
       "      <th>1</th>\n",
       "      <td>Isle of wight</td>\n",
       "      <td>5</td>\n",
       "      <td>4</td>\n",
       "      <td>112</td>\n",
       "    </tr>\n",
       "    <tr>\n",
       "      <th>2</th>\n",
       "      <td>London</td>\n",
       "      <td>4</td>\n",
       "      <td>6</td>\n",
       "      <td>88</td>\n",
       "    </tr>\n",
       "    <tr>\n",
       "      <th>3</th>\n",
       "      <td>Southampton</td>\n",
       "      <td>3</td>\n",
       "      <td>1</td>\n",
       "      <td>13</td>\n",
       "    </tr>\n",
       "    <tr>\n",
       "      <th>4</th>\n",
       "      <td>sussex</td>\n",
       "      <td>8</td>\n",
       "      <td>9</td>\n",
       "      <td>18</td>\n",
       "    </tr>\n",
       "    <tr>\n",
       "      <th>5</th>\n",
       "      <td>Skegness</td>\n",
       "      <td>9</td>\n",
       "      <td>8</td>\n",
       "      <td>12</td>\n",
       "    </tr>\n",
       "    <tr>\n",
       "      <th>6</th>\n",
       "      <td>Belfast</td>\n",
       "      <td>6</td>\n",
       "      <td>8</td>\n",
       "      <td>111</td>\n",
       "    </tr>\n",
       "    <tr>\n",
       "      <th>7</th>\n",
       "      <td>Edinburgh</td>\n",
       "      <td>8</td>\n",
       "      <td>8</td>\n",
       "      <td>232</td>\n",
       "    </tr>\n",
       "    <tr>\n",
       "      <th>8</th>\n",
       "      <td>Liverpool</td>\n",
       "      <td>8</td>\n",
       "      <td>1</td>\n",
       "      <td>91</td>\n",
       "    </tr>\n",
       "    <tr>\n",
       "      <th>9</th>\n",
       "      <td>lake district</td>\n",
       "      <td>7</td>\n",
       "      <td>7</td>\n",
       "      <td>173</td>\n",
       "    </tr>\n",
       "    <tr>\n",
       "      <th>10</th>\n",
       "      <td>cotswolds</td>\n",
       "      <td>8</td>\n",
       "      <td>9</td>\n",
       "      <td>115</td>\n",
       "    </tr>\n",
       "    <tr>\n",
       "      <th>11</th>\n",
       "      <td>Loch Lomond</td>\n",
       "      <td>7</td>\n",
       "      <td>9</td>\n",
       "      <td>17</td>\n",
       "    </tr>\n",
       "    <tr>\n",
       "      <th>12</th>\n",
       "      <td>Blackpool</td>\n",
       "      <td>8</td>\n",
       "      <td>6</td>\n",
       "      <td>255</td>\n",
       "    </tr>\n",
       "    <tr>\n",
       "      <th>13</th>\n",
       "      <td>scotland</td>\n",
       "      <td>8</td>\n",
       "      <td>9</td>\n",
       "      <td>1163</td>\n",
       "    </tr>\n",
       "  </tbody>\n",
       "</table>\n",
       "</div>"
      ]
     },
     "metadata": {},
     "execution_count": 13
    }
   ],
   "metadata": {}
  },
  {
   "cell_type": "code",
   "execution_count": 18,
   "source": [
    "#Filter the data by score above 8\r\n",
    "data = pd.read_csv(\"15_holiday_destination.csv\")\r\n",
    "data.loc[data.Feedback > 8]"
   ],
   "outputs": [
    {
     "output_type": "execute_result",
     "data": {
      "text/plain": [
       "   Destination  Feedback  AvgRating  Hotels_arround_area\n",
       "5     Skegness        10          8                   12\n",
       "7    Edinburgh         9          8                  232\n",
       "10   cotswolds         9          9                  115"
      ],
      "text/html": [
       "<div>\n",
       "<style scoped>\n",
       "    .dataframe tbody tr th:only-of-type {\n",
       "        vertical-align: middle;\n",
       "    }\n",
       "\n",
       "    .dataframe tbody tr th {\n",
       "        vertical-align: top;\n",
       "    }\n",
       "\n",
       "    .dataframe thead th {\n",
       "        text-align: right;\n",
       "    }\n",
       "</style>\n",
       "<table border=\"1\" class=\"dataframe\">\n",
       "  <thead>\n",
       "    <tr style=\"text-align: right;\">\n",
       "      <th></th>\n",
       "      <th>Destination</th>\n",
       "      <th>Feedback</th>\n",
       "      <th>AvgRating</th>\n",
       "      <th>Hotels_arround_area</th>\n",
       "    </tr>\n",
       "  </thead>\n",
       "  <tbody>\n",
       "    <tr>\n",
       "      <th>5</th>\n",
       "      <td>Skegness</td>\n",
       "      <td>10</td>\n",
       "      <td>8</td>\n",
       "      <td>12</td>\n",
       "    </tr>\n",
       "    <tr>\n",
       "      <th>7</th>\n",
       "      <td>Edinburgh</td>\n",
       "      <td>9</td>\n",
       "      <td>8</td>\n",
       "      <td>232</td>\n",
       "    </tr>\n",
       "    <tr>\n",
       "      <th>10</th>\n",
       "      <td>cotswolds</td>\n",
       "      <td>9</td>\n",
       "      <td>9</td>\n",
       "      <td>115</td>\n",
       "    </tr>\n",
       "  </tbody>\n",
       "</table>\n",
       "</div>"
      ]
     },
     "metadata": {},
     "execution_count": 18
    }
   ],
   "metadata": {}
  },
  {
   "cell_type": "code",
   "execution_count": 20,
   "source": [
    "#Filter the data score below 2 ( I need to know if these destinations should be removed or there is a problem)\r\n",
    "data = pd.read_csv(\"15_holiday_destination.csv\")\r\n",
    "data.loc[data.Feedback < 2]"
   ],
   "outputs": [
    {
     "output_type": "execute_result",
     "data": {
      "text/plain": [
       "   Destination  Feedback  AvgRating  Hotels_arround_area\n",
       "3  Southampton         1          1                   13"
      ],
      "text/html": [
       "<div>\n",
       "<style scoped>\n",
       "    .dataframe tbody tr th:only-of-type {\n",
       "        vertical-align: middle;\n",
       "    }\n",
       "\n",
       "    .dataframe tbody tr th {\n",
       "        vertical-align: top;\n",
       "    }\n",
       "\n",
       "    .dataframe thead th {\n",
       "        text-align: right;\n",
       "    }\n",
       "</style>\n",
       "<table border=\"1\" class=\"dataframe\">\n",
       "  <thead>\n",
       "    <tr style=\"text-align: right;\">\n",
       "      <th></th>\n",
       "      <th>Destination</th>\n",
       "      <th>Feedback</th>\n",
       "      <th>AvgRating</th>\n",
       "      <th>Hotels_arround_area</th>\n",
       "    </tr>\n",
       "  </thead>\n",
       "  <tbody>\n",
       "    <tr>\n",
       "      <th>3</th>\n",
       "      <td>Southampton</td>\n",
       "      <td>1</td>\n",
       "      <td>1</td>\n",
       "      <td>13</td>\n",
       "    </tr>\n",
       "  </tbody>\n",
       "</table>\n",
       "</div>"
      ]
     },
     "metadata": {},
     "execution_count": 20
    }
   ],
   "metadata": {}
  },
  {
   "cell_type": "code",
   "execution_count": 21,
   "source": [
    "#Create a data visualisation diagram to show destination and highest scores\r\n",
    "data = pd.read_csv(\"15_holiday_destination.csv\")\r\n",
    "data.plot.line(x='Destination', y = \"Feedback\", figsize=(19,3s))"
   ],
   "outputs": [
    {
     "output_type": "execute_result",
     "data": {
      "text/plain": [
       "<AxesSubplot:xlabel='Destination'>"
      ]
     },
     "metadata": {},
     "execution_count": 21
    },
    {
     "output_type": "display_data",
     "data": {
      "text/plain": [
       "<Figure size 1368x216 with 1 Axes>"
      ],
      "image/png": "[encoded data removed]"
     },
     "metadata": {
      "needs_background": "light"
     }
    }
   ],
   "metadata": {}
  }
 ]
}